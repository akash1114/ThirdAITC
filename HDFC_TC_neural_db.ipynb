{
  "cells": [
    {
      "cell_type": "markdown",
      "metadata": {
        "id": "zBowCKdJmHZ3"
      },
      "source": [
        "## ThirdAI's NeuralDB\n",
        "\n",
        "NeuralDB, as the name suggests, is a combination of a neural network and a database. It provides a high-level API for users to insert different types of files into it and search through the file contents with natural language queries. The neural network part of it enables semantic search while the database part of it stores the paragraphs of the files that are inserted into it.\n",
        "\n",
        "First, let's install the dependencies."
      ]
    },
    {
      "cell_type": "code",
      "execution_count": null,
      "metadata": {
        "id": "vv39MAQJmHZ5"
      },
      "outputs": [],
      "source": [
        "!pip3 install thirdai --upgrade\n",
        "!pip3 install thirdai[neural_db]\n",
        "!pip3 install langchain --upgrade\n",
        "!pip3 install openai --upgrade\n",
        "!pip3 install paper-qa --upgrade"
      ]
    },
    {
      "cell_type": "code",
      "execution_count": null,
      "metadata": {
        "id": "tCm_T4gdmHZ6"
      },
      "outputs": [],
      "source": [
        "from thirdai import licensing, neural_db as ndb\n",
        "# licensing.deactivate()\n",
        "licensing.activate(\"1FB7DD-CAC3EC-832A67-84208D-C4E39E-V3\")"
      ]
    },
    {
      "cell_type": "markdown",
      "metadata": {
        "id": "PiOwWEhDmHZ6"
      },
      "source": [
        "Now, let's import the relevant module and define a neural db class."
      ]
    },
    {
      "cell_type": "code",
      "execution_count": null,
      "metadata": {
        "id": "kdleY0r0mHZ6"
      },
      "outputs": [],
      "source": [
        "db = ndb.NeuralDB(user_id=\"my_user\") # you can use any username, in the future, this username will let you push models to the model hub"
      ]
    },
    {
      "cell_type": "markdown",
      "metadata": {
        "id": "S50E0vMtmHZ6"
      },
      "source": [
        "### You even load from a base DB from our Bazaar (optional but recommended)\n",
        "\n",
        "We have a model bazaar that provides users with domain specific NeuralDBs that can jumpstart searching on their private documents. The Bazaar has two main types of DBs\n",
        "\n",
        "1. Base DBs: These come with models that have either general QnA capabilities or domain specific capabilities like search on Medical Documents, Financial documents or Contracts. These come with an empty data index into which users can insert their files.\n",
        "\n",
        "2. Pre-Indexed DBs: These are ready-to-search DBs that come with pre-trained models and their corresponding datasets. These are meant to  search through large public datasets like PubMed or Amazon 3MM Products or Stackoverflow issues etc."
      ]
    },
    {
      "cell_type": "code",
      "execution_count": null,
      "metadata": {
        "id": "8Hdd_honmHZ6"
      },
      "outputs": [],
      "source": [
        "# Set up a cache directory\n",
        "import os\n",
        "if not os.path.isdir(\"bazaar_cache\"):\n",
        "    os.mkdir(\"bazaar_cache\")\n",
        "\n",
        "from pathlib import Path\n",
        "from thirdai.neural_db import Bazaar\n",
        "bazaar = Bazaar(cache_dir=Path(\"bazaar_cache\"))\n"
      ]
    },
    {
      "cell_type": "markdown",
      "metadata": {
        "id": "K8rF9BlnmHZ7"
      },
      "source": [
        "Call fetch to refresh list of available DBs."
      ]
    },
    {
      "cell_type": "code",
      "execution_count": null,
      "metadata": {
        "id": "24fm8seimHZ7"
      },
      "outputs": [],
      "source": [
        "bazaar.fetch() # Optional arg filter=\"model name\" to filter by model name.\n"
      ]
    },
    {
      "cell_type": "markdown",
      "metadata": {
        "id": "NgIvSWTGmHZ7"
      },
      "source": [
        "Below is the list of all DBs in the Bazaar."
      ]
    },
    {
      "cell_type": "code",
      "execution_count": null,
      "metadata": {
        "id": "C2rbOHWemHZ7",
        "outputId": "3dd58ff7-2689-4449-fa57-89022efae9dc"
      },
      "outputs": [
        {
          "name": "stdout",
          "output_type": "stream",
          "text": [
            "['Contract Review', 'Finance QnA', 'General QnA']\n"
          ]
        }
      ],
      "source": [
        "print(bazaar.list_model_names())\n"
      ]
    },
    {
      "cell_type": "markdown",
      "metadata": {
        "id": "EyF2oB9rmHZ8"
      },
      "source": [
        "Finally load the DB"
      ]
    },
    {
      "cell_type": "code",
      "execution_count": null,
      "metadata": {
        "id": "Ih4TmHzJmHZ8"
      },
      "outputs": [],
      "source": [
        "db = bazaar.get_model(\"General QnA\")"
      ]
    },
    {
      "cell_type": "markdown",
      "metadata": {
        "id": "SaHJowzjmHZ8"
      },
      "source": [
        "### Insert your files\n",
        "\n",
        "Let's insert things into it!\n",
        "\n",
        "Currently, we natively support adding CSV, PDF and DOCX files. We also have a support to automatically scrape and parse URLs. All other file formats have to be converted into CSV files where each row represents a paragraph/text-chunk of the document."
      ]
    },
    {
      "cell_type": "markdown",
      "metadata": {
        "id": "S_RqDX80mHZ9"
      },
      "source": [
        "#### PDF files"
      ]
    },
    {
      "cell_type": "code",
      "execution_count": null,
      "metadata": {
        "colab": {
          "base_uri": "https://localhost:8080/"
        },
        "id": "k6z-qspSmHZ9",
        "outputId": "71d191e2-73c2-4894-c846-59312d7a4147"
      },
      "outputs": [
        {
          "name": "stdout",
          "output_type": "stream",
          "text": [
            "[<thirdai.neural_db.documents.PDF object at 0x7bfc006fdf30>]\n"
          ]
        }
      ],
      "source": [
        "insertable_docs = []\n",
        "pdf_files = ['hdfc2.pdf']\n",
        "\n",
        "for file in pdf_files:\n",
        "    pdf_doc = ndb.PDF(file)\n",
        "    insertable_docs.append(pdf_doc)\n",
        "\n",
        "print(insertable_docs)"
      ]
    },
    {
      "cell_type": "markdown",
      "metadata": {
        "id": "9V3IKsgSmHZ9"
      },
      "source": [
        "### Insert into NeuralDB\n",
        "\n",
        "If you wish to insert without unsupervised training, you can set 'train=False' in the insert() method."
      ]
    },
    {
      "cell_type": "code",
      "execution_count": null,
      "metadata": {
        "id": "_3N0dI3imHZ-"
      },
      "outputs": [],
      "source": [
        "source_ids = db.insert(insertable_docs, train=False)"
      ]
    },
    {
      "cell_type": "markdown",
      "metadata": {
        "id": "jmPFuaBrmHZ-"
      },
      "source": [
        "The above command is intended to be used with a base DB which already has reasonable knowledge of the domain. In general, we always recommend using 'train=True' as shown below.\n",
        "\n",
        "#### Insert and Train"
      ]
    },
    {
      "cell_type": "code",
      "execution_count": null,
      "metadata": {
        "colab": {
          "base_uri": "https://localhost:8080/"
        },
        "id": "H8YJFDjfmHZ-",
        "outputId": "6ddd0bb2-63a2-40b5-b83e-aa666bcdea07"
      },
      "outputs": [
        {
          "name": "stdout",
          "output_type": "stream",
          "text": [
            "loaded data | source 'Documents:\n",
            "hdfc2.pdf' | vectors 1364 | batches 1 | time 0s | complete\n",
            "\n",
            "train | epoch 0 | train_steps 2473 | train_hash_precision@5=0.404692  | train_batches 1 | time 7s\n",
            "\n",
            "train | epoch 1 | train_steps 2474 | train_hash_precision@5=0.661437  | train_batches 1 | time 5s\n",
            "\n",
            "train | epoch 2 | train_steps 2475 | train_hash_precision@5=0.87522  | train_batches 1 | time 4s\n",
            "\n",
            "train | epoch 3 | train_steps 2476 | train_hash_precision@5=0.939883  | train_batches 1 | time 7s\n",
            "\n",
            "train | epoch 4 | train_steps 2477 | train_hash_precision@5=0.949853  | train_batches 1 | time 4s\n",
            "\n",
            "train | epoch 5 | train_steps 2478 | train_hash_precision@5=0.956598  | train_batches 1 | time 4s\n",
            "\n"
          ]
        }
      ],
      "source": [
        "source_ids = db.insert(insertable_docs, train=True)"
      ]
    },
    {
      "cell_type": "markdown",
      "metadata": {
        "id": "5ZrCAT3fmHZ-"
      },
      "source": [
        "If you call the insert() method multiple times, the documents will automatically be de-duplicated. If insert=True, then the training will be done multiple times."
      ]
    },
    {
      "cell_type": "markdown",
      "metadata": {
        "id": "LEnX--WzmHZ-"
      },
      "source": [
        "### Search\n",
        "\n",
        "Now let's start searching."
      ]
    },
    {
      "cell_type": "code",
      "execution_count": null,
      "metadata": {
        "colab": {
          "base_uri": "https://localhost:8080/"
        },
        "id": "MwH25296mHZ-",
        "outputId": "55802e1d-b534-4667-c52b-ad8e6e1ddfab"
      },
      "outputs": [
        {
          "name": "stdout",
          "output_type": "stream",
          "text": [
            "a. Railway Ticket Purchase Fee: 1% of the transaction amount + GST except IRCTC HDFC Bank Credit Card. Charges will be reversed post transaction. (Refer IRCTC website for detailed fee structure). b. Conversion charges - Auto EMI: Applicable on all transactions (Excluding Fuel Gold and Jewellery) of Rs 10 000/- or more done on Easy EMI Credit Card.\n",
            "************\n",
            "This means that a customer who has a billing date of 4th of the month can spend on his Card from 5th April to 4th May his bill will be generated on 4th May and his Payment Due Date will be 24th May. Hence a purchase made on 14th April will have a credit period of 41 days while a purchase made on 2nd May will have a credit period of 23 days.\n",
            "************\n"
          ]
        }
      ],
      "source": [
        "search_results = db.search(\n",
        "    query=\"What is the railway ticket purchase fee?\",\n",
        "    top_k=2,\n",
        "    on_error=lambda error_msg: print(f\"Error! {error_msg}\"))\n",
        "\n",
        "for result in search_results:\n",
        "    print(result.text)\n",
        "    # print(result.context(radius=1))\n",
        "    # print(result.source)\n",
        "    # print(result.metadata)\n",
        "    print('************')"
      ]
    },
    {
      "cell_type": "markdown",
      "metadata": {
        "id": "gqarZqCDmHaA"
      },
      "source": [
        "### Get Answers from OpenAI using Langchain\n",
        "\n",
        "In this section, we will show how to use LangChain and query OpenAI's QnA module to generate an answer from the references that you retrieve from the above DB. You'll have to specify your own OpenAI key for this module to work. You can replace this segment with any other generative model of your choice. You can choose to use an source model like MPT or Dolly for answer generation with the same prompt that you use with OpenAI."
      ]
    },
    {
      "cell_type": "code",
      "execution_count": null,
      "metadata": {
        "id": "2chaitSLmHaB"
      },
      "outputs": [],
      "source": [
        "import os\n",
        "os.environ[\"OPENAI_API_KEY\"] = \"\""
      ]
    },
    {
      "cell_type": "code",
      "execution_count": null,
      "metadata": {
        "id": "ruVJmpo2mHaB"
      },
      "outputs": [],
      "source": [
        "from langchain.chat_models import ChatOpenAI\n",
        "from paperqa.prompts import qa_prompt\n",
        "from paperqa.chains import make_chain\n",
        "\n",
        "llm = ChatOpenAI(\n",
        "    model_name='gpt-3.5-turbo',\n",
        "    temperature=0.1,\n",
        ")\n",
        "\n",
        "qa_chain = make_chain(prompt=qa_prompt, llm=llm)"
      ]
    },
    {
      "cell_type": "code",
      "execution_count": null,
      "metadata": {
        "id": "QwVmQaCpmHaB"
      },
      "outputs": [],
      "source": [
        "def get_references(query):\n",
        "    search_results = db.search(query,top_k=3)\n",
        "    references = []\n",
        "    for result in search_results:\n",
        "        references.append(result.text)\n",
        "    return references\n",
        "\n",
        "def get_answer(query, references):\n",
        "    return qa_chain.run(question=query, context='\\n\\n'.join(references[:3]), answer_length=\"abt 50 words\")"
      ]
    },
    {
      "cell_type": "code",
      "execution_count": null,
      "metadata": {
        "colab": {
          "base_uri": "https://localhost:8080/"
        },
        "id": "3W2O8Rt3mHaB",
        "outputId": "c9573625-84a6-410d-c642-78951c24211c"
      },
      "outputs": [
        {
          "name": "stdout",
          "output_type": "stream",
          "text": [
            "[\"Card variant Joining / Annual membership Fee Minimum Spend for waiver of annual membership fee / renewal charges for next year * Fuel Transaction Surcharge (Plus GST) ** Foreign Currency Transactions % Of transaction value *** Infinia (Metal Edition) Rs12 500 Rs10 Lakh / Annum Waiver capped at Rs1000 every billing cycle 2% Infinia Rs10 000 Rs8 Lakh / Annum Diners Black Rs5 Lakh / Annum HDFC Bank Times Rs500 Rs1.5 lakh / Annum Waiver capped at Rs250 every billing cycle Best Price Save Smart Rs50 000 / Annum Regalia Gold Rs2 500 Rs4 Lakh / Annum NA Regalia Business Regalia Diners Privilege Diners Club Premium Doctor's Regalia Rs3 Lakh / Annum Waiver capped at Rs500 every billing cycle For Regalia Doctor's Regalia Business Regalia - Waived for transaction between Rs400 to Rs5 000 (Diners Privilege Fuel surcharge waiver not applicable effective 1st Aug'23) Tata Neu Infinity HDFC Bank Rs1 499 Times Platinum Rs1 000 Rs2.5 lakh / Annum Regalia First Business Regalia First Rs1 Lakh / Annum Diners ClubMiles Diners Club Rewardz 3% 6E Rewards Indigo XL Rs1 500 NA 2.5% 6E Rewards Indigo Rs500 NA NA NA Indian Oil HDFC Bank Rs500 Rs50 000 / Annum HDFC Bank UPI RuPay Credit Card / Rs250 Rs25 000 / Annum NA Page 3 of 20 Back to Table of Content Version 1.98 Dated - 01-Aug-2023 HDFC Bank UPI RuPay Biz Credit Card 3.5% Millennia Rs1 000 Rs1 Lakh / Annum Waiver capped at Rs250 every billing cycle Equitas Elegance Rs2.5 Lakh / Annum Equitas Excite Rs500 Rs1 Lakh / Annum MoneyBack MoneyBack+ Business Moneyback Rs50 000 / Annum Freedom Rs50 000 / Annum Small Business Moneyback Rs250 Rs25 000 / Annum Shoppers Stop Black HDFC Bank Rs4500 NA Waiver capped at Rs500 every billing cycle Superia Rs1 000 Rs75 000 / Annum Paytm HDFC Bank Select Rs50 000 within 90 days for 1st year membership fee and Rs1.5 Lakh / Annum for annual fee AllMiles Rs1 lakh / Annum Doctors Superia NA Paytm HDFC Bank Select Business Rs60 000 within 90 days for 1st year membership fee and Rs1 Lakh / Annum for annual fee Waiver capped at Rs250 every billing cycle Best Price Save Max Rs75 000 / Annum Pine Labs HDFC Bank Pro Rs75 000 within 90 days for 1st year membership fee and Rs1 00 000 / Annum for renewal fee Paytm HDFC Bank Business Rs500 Rs30 000 within 90 days for 1st year membership fee and 50 000 / Annum for annual fee Pharmeasy HDFC Bank Rs150 within 90 days for 1st year membership fee and 70 000 / Annum for renewal fee IRCTC HDFC Bank Credit Card Rs1.5 lakh / Annum Paytm HDFC Bank Rs49 / Month (Rs500 per annum from April 1 2023) Rs Rs.30 000 within 90 days for 1st year membership fee and Rs.50 000 / Annum for renewal fee Paytm HDFC Bank Digital Credit Card Rs.149 per annum Rs.1 000 within 30 days for 1st year membership fee and Rs.25 000 / Annum for renewal fee Page 4 of 20 Back to Table of Content Version 1.98 Dated - 01-Aug-2023 Paytm HDFC Bank Mobile Rs29 / Month (Rs149 per annum from April 1 2023) Rs Rs.1 000 within 30 days for 1st year membership fee and Rs.25 000 / Annum for renewal fee Pine Labs HDFC Bank Rs499 Rs45 000 within 90 days for 1st year membership fee and 50 000 / Annum for renewal fee Retailio HDFC Bank Rs50 000 / Annum Flipkart Wholesale Rs3 lakh / Annum Tata Neu Plus HDFC Bank Rs1 lakh / Annum Shoppers Stop HDFC Bank Free NA Business Bharat CashBack Business Freedom Card Rs500 Rs20 000 / Annum NA Bharat CashBack Rs50 000 / Annum Business Program Rs20 000 within 90 days for 1st year membership fee and Rs1 00 000 / Annum for renewal fee Teacher's Platinum Rs50 000 / Annum Easy EMI Solitaire Platinum Edge Rs50 000 / Annum Swiggy HDFC Bank Credit Card Rs2 lakh / Annum Snapdeal HDFC Bank NA Business Platinum Rs299 Rs30 000 / Annum * Exclude transactions - Cash on Call Balance Transfer Cash Withdrawal ** Fuel Surcharge waiver: Fuel Surcharge Waiver will be capped at 1% of the eligible fuel transaction amounts.\", \"The Bank will mail a statement of transactions in the card account every month on a pre-determined date to the mailing address / email ID on record with the bank. Mode of the statement will be Physical / email as per customer's choice. ii.\", 'g. With effect from 1st Feb 2023 Reward Points redemption for CashBack redemption are capped per calendar month to 3000 rewards points for Millennia Easy Emi millennia Bharat Pharmeasy and Paytm cards and 50 000 reward points for all other cards. h. With effect from 1st Feb 2023 cardmembers can redeem upto 70% of product/Voucher value through Reward Points on select vouchers/products and pay the remaining amount via Credit card.']\n"
          ]
        }
      ],
      "source": [
        "query = \"what is annual membership fee for Teacher's platinium?\"\n",
        "\n",
        "references = get_references(query)\n",
        "print(references)"
      ]
    }
  ],
  "metadata": {
    "colab": {
      "provenance": []
    },
    "kernelspec": {
      "display_name": "base",
      "language": "python",
      "name": "python3"
    },
    "language_info": {
      "codemirror_mode": {
        "name": "ipython",
        "version": 3
      },
      "file_extension": ".py",
      "mimetype": "text/x-python",
      "name": "python",
      "nbconvert_exporter": "python",
      "pygments_lexer": "ipython3",
      "version": "3.11.4"
    },
    "orig_nbformat": 4
  },
  "nbformat": 4,
  "nbformat_minor": 0
}
